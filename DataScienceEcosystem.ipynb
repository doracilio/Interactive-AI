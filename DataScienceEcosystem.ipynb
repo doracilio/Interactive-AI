{
 "cells": [
  {
   "cell_type": "code",
   "execution_count": null,
   "id": "c71502c6-32f9-4219-960e-37910c86937c",
   "metadata": {},
   "outputs": [],
   "source": [
    "# Exercise 1: Create a Jupyter Notebook\n",
    "# Create a new Jupyter notebook called DataScienceEcosystem.ipynb\n",
    "# Note: The next item in the course will launch JupyterLite with an empty notebook with this name that you can use to \n",
    "# complete rest of the Exercises. You can also use any other Jupyter notebook environment (e.g. Anaconda) that you \n",
    "# prefer to complete the assignment."
   ]
  },
  {
   "cell_type": "markdown",
   "id": "97010120-a145-4ed3-8605-08ab53f04dac",
   "metadata": {},
   "source": [
    "# Exercise 2: Create markdown cell with title of the notebook\n",
    "# Data Science Tools and Ecosystem  "
   ]
  },
  {
   "cell_type": "markdown",
   "id": "e4d80852-3ad0-47f1-9381-54398f58bf48",
   "metadata": {},
   "source": [
    "# Exercise 3 - Create a markdown cell for an introduction\n",
    "# In this notebook, Data Science Tools and Ecosystem are summarized.\n",
    "\n",
    "\n"
   ]
  },
  {
   "cell_type": "markdown",
   "id": "aad4161c-f11e-4843-998a-b621b734d561",
   "metadata": {},
   "source": [
    "# Exercise 4 - Create a markdown cell to list data science languages\n",
    "# Some of the popular languages that Data Scientists use are:\n",
    "# 1- Phython;\n",
    "# 2- R;\n",
    "# 3- Julia;\n",
    "# 4- Java; \n",
    "# 5- Scala; \n",
    "# 6- SQL; \n",
    "# 7- C++; \n",
    "# 8- Java Script; \n",
    "# 9- GO; \n",
    "# 10- Ruby ..."
   ]
  },
  {
   "cell_type": "markdown",
   "id": "6e55d1ce-2514-4e96-b47f-6c06350ce8a8",
   "metadata": {},
   "source": [
    "# Exercise 5 - Create a markdown cell to list data science libraries\n",
    "# Some of the commonly used libraries used by Data Scientists include:\n",
    "# 1- Pytorch \n",
    "# 2- Gpplot2\n",
    "# 3- Altair\n",
    "# 4- TensorFlow\n",
    "# 5- Keras\n",
    "# 6- Pandas \n",
    "# 7- Numpy\n",
    "# 8- Scipy\n",
    "# 9- MatPlotLib\n",
    "# 10- Scrapy ...\n",
    "\n"
   ]
  },
  {
   "cell_type": "markdown",
   "id": "c7f0379b-3106-4d4e-b475-7f9ab2d8ccd3",
   "metadata": {},
   "source": [
    "# Exercise 6 - Create a markdown cell with a table of Data Science tools\n",
    "# Create a single column table in this cell with the first row containing the header Data Science Tools. \n",
    "# The subsequent three rows in the table should indicate three development environment open source tools used in data science.\n",
    "# Take a screenshot of the markdown cell and name it as 6-dstools.png (Images can be saved with either the .jpg or .png extension.)\n",
    "# Hint: Refer to Lab: Using Markdowns in Jupyter Notebooks to create a table.\n",
    "\n",
    "\n"
   ]
  },
  {
   "cell_type": "markdown",
   "id": "e12274b8-8862-4edb-9712-6d99c7b19cd5",
   "metadata": {},
   "source": [
    "|Data Science tools|\n",
    "|:----------------:|\n",
    "| **IBM SPSS** |\n",
    "| **SAS** |\n",
    "| **Jupyter Notebook** |\n",
    "| **Python** |\n",
    "| **Apache Spark** |\n",
    "| **D3.JS** |\n",
    "| **Scikit Learn** |\n",
    "| **Weka** |\n",
    "| **MatLab** |\n",
    "| **SciPy** |\n",
    "\n",
    "# Works if you run the table will be generated \n"
   ]
  },
  {
   "cell_type": "markdown",
   "id": "bfa48020-2deb-4fcb-bbe8-8d49e547e5bc",
   "metadata": {},
   "source": [
    "# Exercise 7 - Create a markdown cell introducing arithmetic expression examples\n",
    "# Add a line in this cell with H3 style heading with text like:\n",
    "# Below are a few examples of evaluating arithmetic expressions in Python.\n",
    "# Take a screenshot of the markdown cell and name it as 7-introarithmetic.png (Images can be saved with either the .jpg or .png extension.)\n",
    "\n",
    "### markdown cell introducing arithmetic expression ###\n",
    "\n",
    "a = 3 \n",
    "b = 5 \n",
    "print(a+b) \n",
    "\n",
    "\n"
   ]
  },
  {
   "cell_type": "code",
   "execution_count": 8,
   "id": "b69c348e-61dd-401e-bda6-8eed65325da1",
   "metadata": {},
   "outputs": [
    {
     "name": "stdout",
     "output_type": "stream",
     "text": [
      "17\n",
      "17\n"
     ]
    }
   ],
   "source": [
    "# Exercise 8 - Create a code cell to multiply and add numbers\n",
    "# In this code cell evaluate the expression (3*4)+5.\n",
    "# Insert a comment line before the expression to explain the operation e.g.  This a simple arithmetic expression to mutiply \n",
    "# then add integers.\n",
    "# Then execute the cell to ensure the expression returns the expected output of 17.\n",
    "# Take a screenshot of the code cell with output and name it as 8-multiplyandaddintegers.png (Images can be saved with either\n",
    "# the .jpg or .png extension.)\n",
    "\n",
    "A=(3*4)+5\n",
    "print(A) \n",
    "print((3*4)+5)\n"
   ]
  },
  {
   "cell_type": "code",
   "execution_count": 6,
   "id": "0562937a-b31a-44b3-9ec1-faf0fb528852",
   "metadata": {},
   "outputs": [
    {
     "name": "stdout",
     "output_type": "stream",
     "text": [
      "3.3333333333333335\n"
     ]
    }
   ],
   "source": [
    "# Exercise 9 - Create a code cell to convert minutes to hours\n",
    "# In this code cell write an expression that converts 200 minutes into hours.\n",
    "# Insert a comment line before the expression to explain the operation e.g.  This will convert 200 minutes to hours by diving by 60.\n",
    "# Run the cell to evaluate the expression.\n",
    "# Take a screenshot of the code cell with output and name it as 9-hourstominutes.png (Images can be saved with either \n",
    "# the .jpg or .png extension.)\n",
    "Minutes = 200\n",
    "Hours= Minutes/60\n",
    "print(Hours) "
   ]
  },
  {
   "cell_type": "markdown",
   "id": "6fc1267b-87b9-4388-beea-193865c845cd",
   "metadata": {},
   "source": [
    "# Exercise 10 - Insert a markdown cell to list Objectives\n",
    "# Below the introduction cell created in Exercise 3, insert a new markdown cell to list the objectives that \n",
    "# this notebook covered (i.e. some of the key takeaways from the course). In this new cell start with an \n",
    "# introductory line titled: Objectives: in bold font. Then using an unordered list (bullets) indicate 3 to 5 items \n",
    "# covered in this notebook, such as List popular languages for Data Science.\n",
    "# Take a screenshot of the markdown cell and name it as 10-objectives.png (Images can be saved with either the .jpg or .png extension.)\n",
    "\n",
    "**Objectives: in bold font.** \n",
    "#    Then using an unordered list (bullets) indicate 3 to 5 items List popular languages for Data Science.\n",
    "\n",
    "**- Phython;**\n",
    "**- R;**\n",
    "**- Julia;**\n"
   ]
  },
  {
   "cell_type": "markdown",
   "id": "50973f8b-b6a3-4c63-9408-8a122c887360",
   "metadata": {},
   "source": [
    "# Exercise 11 - Create a markdown cell to indicate the Author's name\n",
    "# In this markdown cell markdown cell include the following text Author in H2 style heading. Include your name as regular \n",
    "# text below the word Author.\n",
    "# Take a screenshot of the markdown cell and name it as 11-authordetails.png (Images can be saved with either the .jpg or .png extension.)\n",
    "# Note: Save and download the notebook.\n",
    "\n",
    "## The Author's name ## \n",
    "# Doracilio Farias #\n"
   ]
  },
  {
   "cell_type": "code",
   "execution_count": null,
   "id": "cec19120-4bca-40b7-ba25-c74fb91f831d",
   "metadata": {},
   "outputs": [],
   "source": [
    "# Exercise 12 - Share your notebook through GitHub\n",
    "# Upload your notebook to a public respository on GitHub.\n",
    "# Note : Please keep the GitHub repo link of the notebook handy.\n",
    "# You will need to submit this link as a part of the assignment evaluation.\n",
    "# Hint: Refer to Lab: Working with files in Jupyter Notebooks to download the notebook from SN Labs."
   ]
  },
  {
   "cell_type": "code",
   "execution_count": null,
   "id": "be787f7f-8ba1-492c-98d5-257bca268932",
   "metadata": {},
   "outputs": [],
   "source": [
    "# Exercise 13 -Take a screenshot of the first page of the notebook and save it as 1-notebook.png - Images can be saved with \n",
    "# either the .jpg or .png extension.\n",
    "# Refer to Hands-on Lab: Getting Started with GitHub to upload the downloaded notebook to GitHub.\n",
    "# Congratulations on completing this project. In a subsequent item in the course you will submit a link to your notebook \n",
    "# on GitHub and evaluate your peers."
   ]
  },
  {
   "cell_type": "markdown",
   "id": "428e955d-83f9-46e2-8ac7-358f86b52aef",
   "metadata": {},
   "source": [
    "# Here is a markup Cell "
   ]
  },
  {
   "cell_type": "markdown",
   "id": "69daf9f5-4b06-4fcb-a053-5caa5c520278",
   "metadata": {},
   "source": [
    "# Exercise 13 -Take a screenshot of the first page of the notebook and save it as 1-notebook.png(Images can be saved with \n",
    "# either the .jpg or .png extension.)\n",
    "# Refer to Hands-on Lab: Getting Started with GitHub to upload the downloaded notebook to GitHub.\n",
    "# Congratulations on completing this project. In a subsequent item in the course you will submit a link to your notebook \n",
    "# on GitHub and evaluate your peers."
   ]
  }
 ],
 "metadata": {
  "kernelspec": {
   "display_name": "Python 3 (ipykernel)",
   "language": "python",
   "name": "python3"
  },
  "language_info": {
   "codemirror_mode": {
    "name": "ipython",
    "version": 3
   },
   "file_extension": ".py",
   "mimetype": "text/x-python",
   "name": "python",
   "nbconvert_exporter": "python",
   "pygments_lexer": "ipython3",
   "version": "3.11.7"
  }
 },
 "nbformat": 4,
 "nbformat_minor": 5
}
